{
 "cells": [
  {
   "cell_type": "markdown",
   "id": "7e32c812-9ee4-4e93-908e-538019afde78",
   "metadata": {},
   "source": [
    "# User Clustering using Embeddings\n",
    "\n",
    "**Date:** 11th December 2024 \n",
    "\n",
    "**Dataset:** German Web Tracking\n",
    "\n",
    "In this notebook, we look at clustering users based on their web browsing sequences using embeddings of their browsing sequences.\n",
    "\n",
    "We look at different embeddings for the underlying sequences:\n",
    "- Embeddings: OpenAI (`text-embedding-3-small`, `-large`), TF-IDF, E5, MiniLM\n",
    "\n",
    "In their respective high dimensional spaces, the embeddings are not very good at clustering users. In fact, the TF-IDF embeddings greatly outperform the OpenAI embeddings in the sense of silhouette scores.\n",
    "\n",
    "We aggregate the embeddings into user representations using the mean of the embeddings of the user's sequences. (In a follow-up notebook, we intend to consider more principled approaches to user representations from the embeddings.)\n",
    "\n",
    "The user representations are then clustered (with the number of clusters chosen using the silhouette score).\n",
    "\n",
    "In order to interpret the resulting clusters, we use `gpt-4o` to provide a sentence description and 3 keywords for each cluster. We prompt it with a random sample of sequences from each cluster up to a token budget, and repeat the process 3 times to get a sense of the consistency of the interpretations.\n",
    "\n",
    "**Summary:**\n",
    "- TF-IDF surprisingly outperformed OpenAI embeddings (0.029 vs -0.001 silhouette score) in their original spaces\n",
    "- LLM interpretation quality:\n",
    "    - Showed remarkable consistency across random samples\n",
    "    - Successfully identified distinct behavioral patterns\n",
    "    - Generated relevant keywords that captured cluster essence\n",
    "    - Showed consistency in identifying both temporal patterns (weekend/weekday) and primary activities (shopping, gaming, social media)\n",
    "- User segments identified:\n",
    "    - 3-Cluster Analysis: \n",
    "        - Entertainment/Social Media (evening users)\n",
    "        - Gaming/Shopping Mix\n",
    "        - Creative/Hobby focused (weekend users)\n",
    "    - 6-Cluster Analysis (more granular):\n",
    "        - Casual media consumers\n",
    "        - Finance/Shopping focused\n",
    "        - Community site users\n",
    "        - Automotive enthusiasts\n",
    "        - Gaming-focused users\n",
    "        - Heavy social media users (Facebook/YouTube)"
   ]
  },
  {
   "cell_type": "code",
   "execution_count": 1,
   "id": "3253c4a1-a72e-4e16-8f43-a35a267b7630",
   "metadata": {},
   "outputs": [],
   "source": [
    "import sys\n",
    "import os\n",
    "\n",
    "sys.path.append(os.path.abspath(\"../../\"))"
   ]
  },
  {
   "cell_type": "code",
   "execution_count": 2,
   "id": "50deccf9-704e-467a-90d6-63320c06181c",
   "metadata": {},
   "outputs": [],
   "source": [
    "import pickle\n",
    "import numpy as np\n",
    "import pandas as pd\n",
    "from tqdm.auto import tqdm\n",
    "import matplotlib.pyplot as plt\n",
    "import seaborn as sns\n",
    "import dotenv\n",
    "from sklearn.metrics import silhouette_score\n",
    "from openai import OpenAI\n",
    "from IPython.display import display, HTML\n",
    "\n",
    "from cybergpt.models.clustering.simple import (\n",
    "    create_user_representations,\n",
    "    cluster_users,\n",
    "    compute_cluster_scores,\n",
    ")\n",
    "from cybergpt.models.utils import feature_df_to_numpy\n",
    "from cybergpt.prompting.clusters import interpret_clusters, cluster_results_to_html"
   ]
  },
  {
   "cell_type": "markdown",
   "id": "77c289c3-b7b0-47d8-b2a4-0a5a4d417de5",
   "metadata": {},
   "source": [
    "## Data\n",
    "\n",
    "The dataset consists of web browsing sequences that are processed in two ways:\n",
    "\n",
    "1. **Text Embeddings**: Each sequence is converted to a string which looks like:\n",
    "```\n",
    "\"Monday 14:15, Visits: google.com (10s) -> youtube.com (89s) -> google.com (32s) -> amazon.de (123s)\"\n",
    "```\n",
    "\n",
    "2. **Feature Engineering**: Hand-crafted features; see `cybergpt.models.features` for details. They include:\n",
    "- Temporal patterns (time of day, session duration, etc.)\n",
    "- Domain-specific metrics (unique domains, domain categories)\n",
    "- Behavioral patterns (transition times, dwell times)\n",
    "\n",
    "In order to generate the required processed data, please run the following:\n",
    "\n",
    "**Embeddings**\n",
    "\n",
    "```shell\n",
    "python -m cybergpt.models.embed.websites \\\n",
    "    --data_csv path/to/raw/data.csv \\\n",
    "    --output_dir data/embeddings \\\n",
    "    --models openai openai-large minilm e5 tfidf \\\n",
    "    --sample_size 200\n",
    "```\n",
    "\n",
    "Note that sequences of domain visits are first mapped to strings which look like this:\n",
    "\n",
    "`\"Monday 14:15, Visits: google.com (10s) -> youtube.com (89s) -> google.com (32s) -> amazon.de (123s)\"`\n",
    "\n",
    "**Features**\n",
    "\n",
    "```shell\n",
    "python -m cybergpt.models.features \\\n",
    "    --data_csv path/to/raw/data.csv \\\n",
    "    --output_dir data/features\n",
    "```"
   ]
  },
  {
   "cell_type": "code",
   "execution_count": 3,
   "id": "8a1a3a74-84a0-4a4d-9f6b-66a6cf91f9fe",
   "metadata": {},
   "outputs": [],
   "source": [
    "SEQUENCES_PICKLE = \"../../data/embeddings/preprocessed_dataset.pkl\"\n",
    "EMBEDDINGS_PICKLES = {\n",
    "    \"openai\": \"../../data/embeddings/embeddings_openai.pkl\",\n",
    "    \"openai-large\": \"../../data/embeddings/embeddings_openai-large.pkl\",\n",
    "    \"tfidf\": \"../../data/embeddings/embeddings_tfidf.pkl\",\n",
    "    \"e5\": \"../../data/embeddings/embeddings_e5.pkl\",\n",
    "    \"minilm\": \"../../data/embeddings/embeddings_minilm.pkl\",\n",
    "}\n",
    "FEATURES_PICKLE = \"../../data/features/features.pkl\""
   ]
  },
  {
   "cell_type": "code",
   "execution_count": 4,
   "id": "c056f7d9-d939-4507-a48b-fea55797dbed",
   "metadata": {},
   "outputs": [],
   "source": [
    "data = pickle.load(open(SEQUENCES_PICKLE, \"rb\"))\n",
    "sequences = data[\"string_sequences\"]\n",
    "labels = data[\"labels\"]\n",
    "\n",
    "embeddings = {e: pickle.load(open(p, \"rb\")) for e, p in EMBEDDINGS_PICKLES.items()}"
   ]
  },
  {
   "cell_type": "code",
   "execution_count": 5,
   "id": "d9716719-7b5c-4eb9-8db6-580c9b6b7977",
   "metadata": {},
   "outputs": [],
   "source": [
    "feature_data = pickle.load(open(FEATURES_PICKLE, \"rb\"))\n",
    "all_labels = feature_data[\"labels\"]\n",
    "features = feature_data[\"features\"]\n",
    "np_features = feature_df_to_numpy(features)"
   ]
  },
  {
   "cell_type": "code",
   "execution_count": 6,
   "id": "3e7e3007-0c22-4b1b-b1d8-1c52217d9211",
   "metadata": {},
   "outputs": [],
   "source": [
    "# Align features with embeddings subset\n",
    "users = pd.Series(labels).drop_duplicates().to_list()\n",
    "features[\"label\"] = all_labels\n",
    "features = pd.concat([features[features[\"label\"] == u] for u in users])\n",
    "feature_arrays = [\n",
    "    np.array([f for f, l in zip(np_features, all_labels) if l == u]) for u in users\n",
    "]\n",
    "np_features = np.concatenate(feature_arrays)"
   ]
  },
  {
   "cell_type": "code",
   "execution_count": 7,
   "id": "a6b58b52-0ea4-4de7-b610-c6b63ea0dffb",
   "metadata": {},
   "outputs": [],
   "source": [
    "embeddings[\"features\"] = np_features"
   ]
  },
  {
   "cell_type": "code",
   "execution_count": 8,
   "id": "264670ed-cbef-4f1b-8b26-2028a2781456",
   "metadata": {},
   "outputs": [
    {
     "name": "stdout",
     "output_type": "stream",
     "text": [
      "Shapes:\n"
     ]
    },
    {
     "data": {
      "text/plain": [
       "{'openai': (7806, 1536),\n",
       " 'openai-large': (7806, 3072),\n",
       " 'tfidf': (7806, 11387),\n",
       " 'e5': (7806, 384),\n",
       " 'minilm': (7806, 384),\n",
       " 'features': (7806, 51)}"
      ]
     },
     "execution_count": 8,
     "metadata": {},
     "output_type": "execute_result"
    }
   ],
   "source": [
    "print(\"Shapes:\")\n",
    "{k: v.shape for k, v in embeddings.items()}"
   ]
  },
  {
   "cell_type": "code",
   "execution_count": 9,
   "id": "e9010f26-001f-4f92-befd-69994b0d9fd0",
   "metadata": {},
   "outputs": [
    {
     "name": "stdout",
     "output_type": "stream",
     "text": [
      "Number of sequences: 7806\n"
     ]
    }
   ],
   "source": [
    "print(f\"Number of sequences: {len(labels)}\")"
   ]
  },
  {
   "cell_type": "code",
   "execution_count": 10,
   "id": "9b5fa17c-6070-454c-b77c-7dd2fd4083fb",
   "metadata": {},
   "outputs": [
    {
     "data": {
      "text/plain": [
       "200"
      ]
     },
     "execution_count": 10,
     "metadata": {},
     "output_type": "execute_result"
    }
   ],
   "source": [
    "users = list(np.unique(labels))\n",
    "len(users)"
   ]
  },
  {
   "cell_type": "markdown",
   "id": "3d76f241-e1ba-4b5d-96c2-bb0bc603abbf",
   "metadata": {},
   "source": [
    "Silhouette scores:"
   ]
  },
  {
   "cell_type": "code",
   "execution_count": 11,
   "id": "2fa66b25-14af-4267-9616-1b325acc3872",
   "metadata": {},
   "outputs": [
    {
     "data": {
      "text/plain": [
       "{'openai': -0.0011543738277431557,\n",
       " 'openai-large': 0.007068461595619095,\n",
       " 'tfidf': 0.029036192961056792,\n",
       " 'e5': -0.031952273,\n",
       " 'minilm': -0.031172128,\n",
       " 'features': -0.6473902283130751}"
      ]
     },
     "execution_count": 11,
     "metadata": {},
     "output_type": "execute_result"
    }
   ],
   "source": [
    "{k: silhouette_score(v, labels) for k, v in embeddings.items()}"
   ]
  },
  {
   "cell_type": "markdown",
   "id": "fee40d52",
   "metadata": {},
   "source": [
    "Comparing clustering quality across different embeddings:\n",
    "- OpenAI embeddings show weak clustering (-0.001)\n",
    "- TF-IDF actually shows strongest separation (0.029)\n",
    "- Engineered features show poor separation (-0.647)\n",
    "\n",
    "The embeddings themselves are not very good at clustering users in their high dimensional spaces."
   ]
  },
  {
   "cell_type": "markdown",
   "id": "3ec48795-f676-4451-8a70-caa37cd2a8b1",
   "metadata": {},
   "source": [
    "## Cluster `text-embedding-3-small` Embeddings"
   ]
  },
  {
   "cell_type": "code",
   "execution_count": 12,
   "id": "6044b8ee-d64a-4c7c-816d-1f1b8d359004",
   "metadata": {},
   "outputs": [],
   "source": [
    "MODEL = \"openai\""
   ]
  },
  {
   "cell_type": "code",
   "execution_count": 13,
   "id": "18ea9a0e-4cbb-4b10-8cdf-e29a8377bee8",
   "metadata": {},
   "outputs": [],
   "source": [
    "def get_user_embedding_dict(embs, labels, users):\n",
    "    emb_label_list = list(zip(embs, labels))\n",
    "    return {u: [e for e, l in emb_label_list if l == u] for u in users}"
   ]
  },
  {
   "cell_type": "code",
   "execution_count": 14,
   "id": "8dba2d3d-673d-4285-9e9b-fcfd9006f01a",
   "metadata": {},
   "outputs": [],
   "source": [
    "emb_dict = get_user_embedding_dict(embeddings[MODEL], labels, users)"
   ]
  },
  {
   "cell_type": "code",
   "execution_count": 15,
   "id": "9c6ceb35-9ca2-4b17-ad26-0d3a96f291bb",
   "metadata": {},
   "outputs": [],
   "source": [
    "repns = create_user_representations(emb_dict, aggregations=[\"mean\"])"
   ]
  },
  {
   "cell_type": "markdown",
   "id": "86b65ac5-c01b-4e5a-a51d-902295514043",
   "metadata": {},
   "source": [
    "Identify an optimal number of clusters using silhouette scores."
   ]
  },
  {
   "cell_type": "code",
   "execution_count": 16,
   "id": "3abc11c3-4549-420d-89a9-23c30da23265",
   "metadata": {
    "scrolled": true
   },
   "outputs": [
    {
     "data": {
      "application/vnd.jupyter.widget-view+json": {
       "model_id": "3b345241d5b143279233bb17de9f105e",
       "version_major": 2,
       "version_minor": 0
      },
      "text/plain": [
       "Computing cluster scores:   0%|          | 0/18 [00:00<?, ?it/s]"
      ]
     },
     "metadata": {},
     "output_type": "display_data"
    },
    {
     "data": {
      "application/vnd.jupyter.widget-view+json": {
       "model_id": "7dadd15186f14b818a288aa9c03882f1",
       "version_major": 2,
       "version_minor": 0
      },
      "text/plain": [
       "Computing cluster scores:   0%|          | 0/18 [00:00<?, ?it/s]"
      ]
     },
     "metadata": {},
     "output_type": "display_data"
    },
    {
     "data": {
      "application/vnd.jupyter.widget-view+json": {
       "model_id": "70786ddccc1e4008811b8a40390045c6",
       "version_major": 2,
       "version_minor": 0
      },
      "text/plain": [
       "Computing cluster scores:   0%|          | 0/18 [00:00<?, ?it/s]"
      ]
     },
     "metadata": {},
     "output_type": "display_data"
    },
    {
     "data": {
      "application/vnd.jupyter.widget-view+json": {
       "model_id": "b077c09761fa4ffcb36a6ff793b65fdf",
       "version_major": 2,
       "version_minor": 0
      },
      "text/plain": [
       "Computing cluster scores:   0%|          | 0/18 [00:00<?, ?it/s]"
      ]
     },
     "metadata": {},
     "output_type": "display_data"
    },
    {
     "data": {
      "application/vnd.jupyter.widget-view+json": {
       "model_id": "ebcbc97f53994603bf1907dda6f698f7",
       "version_major": 2,
       "version_minor": 0
      },
      "text/plain": [
       "Computing cluster scores:   0%|          | 0/18 [00:00<?, ?it/s]"
      ]
     },
     "metadata": {},
     "output_type": "display_data"
    },
    {
     "data": {
      "application/vnd.jupyter.widget-view+json": {
       "model_id": "ca328007a2c34e7d8d4f24f3dab0a738",
       "version_major": 2,
       "version_minor": 0
      },
      "text/plain": [
       "Computing cluster scores:   0%|          | 0/18 [00:00<?, ?it/s]"
      ]
     },
     "metadata": {},
     "output_type": "display_data"
    },
    {
     "data": {
      "application/vnd.jupyter.widget-view+json": {
       "model_id": "b78599af4dc748ccbb9ee3a25b7df436",
       "version_major": 2,
       "version_minor": 0
      },
      "text/plain": [
       "Computing cluster scores:   0%|          | 0/18 [00:00<?, ?it/s]"
      ]
     },
     "metadata": {},
     "output_type": "display_data"
    },
    {
     "data": {
      "application/vnd.jupyter.widget-view+json": {
       "model_id": "da30bd396c514ec799e0e3ef065c3578",
       "version_major": 2,
       "version_minor": 0
      },
      "text/plain": [
       "Computing cluster scores:   0%|          | 0/18 [00:00<?, ?it/s]"
      ]
     },
     "metadata": {},
     "output_type": "display_data"
    },
    {
     "data": {
      "application/vnd.jupyter.widget-view+json": {
       "model_id": "35b963aa95ad4d3994bf981a6669ca68",
       "version_major": 2,
       "version_minor": 0
      },
      "text/plain": [
       "Computing cluster scores:   0%|          | 0/18 [00:00<?, ?it/s]"
      ]
     },
     "metadata": {},
     "output_type": "display_data"
    },
    {
     "data": {
      "application/vnd.jupyter.widget-view+json": {
       "model_id": "b3b4c28b9cb54b3b83ea4a2a34ea7b7b",
       "version_major": 2,
       "version_minor": 0
      },
      "text/plain": [
       "Computing cluster scores:   0%|          | 0/18 [00:00<?, ?it/s]"
      ]
     },
     "metadata": {},
     "output_type": "display_data"
    },
    {
     "data": {
      "application/vnd.jupyter.widget-view+json": {
       "model_id": "25a0a950c2044ee58a8c4d828e17e437",
       "version_major": 2,
       "version_minor": 0
      },
      "text/plain": [
       "Computing cluster scores:   0%|          | 0/18 [00:00<?, ?it/s]"
      ]
     },
     "metadata": {},
     "output_type": "display_data"
    },
    {
     "data": {
      "application/vnd.jupyter.widget-view+json": {
       "model_id": "1c07b8ce5c014e748ceb26f15e02a497",
       "version_major": 2,
       "version_minor": 0
      },
      "text/plain": [
       "Computing cluster scores:   0%|          | 0/18 [00:00<?, ?it/s]"
      ]
     },
     "metadata": {},
     "output_type": "display_data"
    },
    {
     "data": {
      "application/vnd.jupyter.widget-view+json": {
       "model_id": "692f0fff05a7444d9b7bdcc4d17df63d",
       "version_major": 2,
       "version_minor": 0
      },
      "text/plain": [
       "Computing cluster scores:   0%|          | 0/18 [00:00<?, ?it/s]"
      ]
     },
     "metadata": {},
     "output_type": "display_data"
    },
    {
     "data": {
      "application/vnd.jupyter.widget-view+json": {
       "model_id": "9e3e76526cfa47eab39897561348b30c",
       "version_major": 2,
       "version_minor": 0
      },
      "text/plain": [
       "Computing cluster scores:   0%|          | 0/18 [00:00<?, ?it/s]"
      ]
     },
     "metadata": {},
     "output_type": "display_data"
    },
    {
     "data": {
      "application/vnd.jupyter.widget-view+json": {
       "model_id": "52ce702f0ccb4378af3f858119c171bd",
       "version_major": 2,
       "version_minor": 0
      },
      "text/plain": [
       "Computing cluster scores:   0%|          | 0/18 [00:00<?, ?it/s]"
      ]
     },
     "metadata": {},
     "output_type": "display_data"
    },
    {
     "data": {
      "application/vnd.jupyter.widget-view+json": {
       "model_id": "ebfbc9d81bdf47fb9b8ad7d60bf40732",
       "version_major": 2,
       "version_minor": 0
      },
      "text/plain": [
       "Computing cluster scores:   0%|          | 0/18 [00:00<?, ?it/s]"
      ]
     },
     "metadata": {},
     "output_type": "display_data"
    },
    {
     "data": {
      "application/vnd.jupyter.widget-view+json": {
       "model_id": "d0c286c320e54900984b92d7b760e1e3",
       "version_major": 2,
       "version_minor": 0
      },
      "text/plain": [
       "Computing cluster scores:   0%|          | 0/18 [00:00<?, ?it/s]"
      ]
     },
     "metadata": {},
     "output_type": "display_data"
    },
    {
     "data": {
      "application/vnd.jupyter.widget-view+json": {
       "model_id": "1b8b33e67145496e8e97c469e1d0605b",
       "version_major": 2,
       "version_minor": 0
      },
      "text/plain": [
       "Computing cluster scores:   0%|          | 0/18 [00:00<?, ?it/s]"
      ]
     },
     "metadata": {},
     "output_type": "display_data"
    },
    {
     "data": {
      "application/vnd.jupyter.widget-view+json": {
       "model_id": "5c0f19026cc141d8b8aac0024b39a8d9",
       "version_major": 2,
       "version_minor": 0
      },
      "text/plain": [
       "Computing cluster scores:   0%|          | 0/18 [00:00<?, ?it/s]"
      ]
     },
     "metadata": {},
     "output_type": "display_data"
    },
    {
     "data": {
      "application/vnd.jupyter.widget-view+json": {
       "model_id": "66923b19cae645d0bf3ae055b760edcc",
       "version_major": 2,
       "version_minor": 0
      },
      "text/plain": [
       "Computing cluster scores:   0%|          | 0/18 [00:00<?, ?it/s]"
      ]
     },
     "metadata": {},
     "output_type": "display_data"
    }
   ],
   "source": [
    "n_trials = 20\n",
    "scores = pd.concat(\n",
    "    [\n",
    "        compute_cluster_scores(\n",
    "            repns, min_clusters=3, max_clusters=20, random_state=i\n",
    "        ).sort_values(\"score\", ascending=False)\n",
    "        for i in range(n_trials)\n",
    "    ]\n",
    ")"
   ]
  },
  {
   "cell_type": "code",
   "execution_count": 17,
   "id": "511bcfcc-001b-4480-aff1-f0b5a99abc3b",
   "metadata": {},
   "outputs": [
    {
     "data": {
      "text/html": [
       "<div>\n",
       "<style scoped>\n",
       "    .dataframe tbody tr th:only-of-type {\n",
       "        vertical-align: middle;\n",
       "    }\n",
       "\n",
       "    .dataframe tbody tr th {\n",
       "        vertical-align: top;\n",
       "    }\n",
       "\n",
       "    .dataframe thead th {\n",
       "        text-align: right;\n",
       "    }\n",
       "</style>\n",
       "<table border=\"1\" class=\"dataframe\">\n",
       "  <thead>\n",
       "    <tr style=\"text-align: right;\">\n",
       "      <th></th>\n",
       "      <th>n_clusters</th>\n",
       "      <th>algorithm</th>\n",
       "      <th>score</th>\n",
       "    </tr>\n",
       "  </thead>\n",
       "  <tbody>\n",
       "    <tr>\n",
       "      <th>1</th>\n",
       "      <td>3</td>\n",
       "      <td>kmeans</td>\n",
       "      <td>0.064666</td>\n",
       "    </tr>\n",
       "    <tr>\n",
       "      <th>34</th>\n",
       "      <td>20</td>\n",
       "      <td>agglomerative</td>\n",
       "      <td>0.061294</td>\n",
       "    </tr>\n",
       "    <tr>\n",
       "      <th>18</th>\n",
       "      <td>12</td>\n",
       "      <td>agglomerative</td>\n",
       "      <td>0.057832</td>\n",
       "    </tr>\n",
       "    <tr>\n",
       "      <th>32</th>\n",
       "      <td>19</td>\n",
       "      <td>agglomerative</td>\n",
       "      <td>0.057697</td>\n",
       "    </tr>\n",
       "    <tr>\n",
       "      <th>23</th>\n",
       "      <td>14</td>\n",
       "      <td>kmeans</td>\n",
       "      <td>0.056069</td>\n",
       "    </tr>\n",
       "  </tbody>\n",
       "</table>\n",
       "</div>"
      ],
      "text/plain": [
       "    n_clusters      algorithm     score\n",
       "1            3         kmeans  0.064666\n",
       "34          20  agglomerative  0.061294\n",
       "18          12  agglomerative  0.057832\n",
       "32          19  agglomerative  0.057697\n",
       "23          14         kmeans  0.056069"
      ]
     },
     "execution_count": 17,
     "metadata": {},
     "output_type": "execute_result"
    }
   ],
   "source": [
    "scores.groupby([\"n_clusters\", \"algorithm\"]).mean().reset_index().sort_values(\n",
    "    \"score\", ascending=False\n",
    ").head()"
   ]
  },
  {
   "cell_type": "markdown",
   "id": "2b382fcc",
   "metadata": {},
   "source": [
    "- 3 clusters optimal for k-means (score: 0.065)\n",
    "- Agglomerative clustering performs well with higher cluster counts"
   ]
  },
  {
   "cell_type": "markdown",
   "id": "2ceb34e5-88ac-4fda-86e4-e58d58e4412b",
   "metadata": {},
   "source": [
    "## Cluster Users"
   ]
  },
  {
   "cell_type": "code",
   "execution_count": 18,
   "id": "93e5f396-575d-40bd-a90b-f181218615f9",
   "metadata": {},
   "outputs": [],
   "source": [
    "N_CLUSTERS = 3\n",
    "ALGORITHM = \"kmeans\""
   ]
  },
  {
   "cell_type": "code",
   "execution_count": 19,
   "id": "94e0faad-c0a2-443d-b042-b9a844da5e9a",
   "metadata": {},
   "outputs": [],
   "source": [
    "clusters, scores = cluster_users(\n",
    "    repns, algorithm_names=[ALGORITHM], n_clusters=N_CLUSTERS, return_scores=True\n",
    ")\n",
    "clusters = clusters[ALGORITHM]"
   ]
  },
  {
   "cell_type": "code",
   "execution_count": 20,
   "id": "7780e574-5dd1-4c7f-b745-78971cd8e80c",
   "metadata": {},
   "outputs": [
    {
     "data": {
      "text/plain": [
       "0.07133687917318354"
      ]
     },
     "execution_count": 20,
     "metadata": {},
     "output_type": "execute_result"
    }
   ],
   "source": [
    "scores[ALGORITHM]"
   ]
  },
  {
   "cell_type": "code",
   "execution_count": 21,
   "id": "d82e2108-f8df-4ada-b08d-a54b2121b27a",
   "metadata": {},
   "outputs": [
    {
     "data": {
      "text/plain": [
       "1    107\n",
       "2     92\n",
       "0      1\n",
       "Name: count, dtype: int64"
      ]
     },
     "execution_count": 21,
     "metadata": {},
     "output_type": "execute_result"
    }
   ],
   "source": [
    "cluster_dict = {u: c for u, c in zip(users, clusters)}\n",
    "pd.Series(cluster_dict).value_counts()"
   ]
  },
  {
   "cell_type": "markdown",
   "id": "f46528d9-f065-445a-8bd9-a6f25ef77767",
   "metadata": {},
   "source": [
    "With 3 clusters, we get 2 clusters and an outlier. Trying 6 instead..."
   ]
  },
  {
   "cell_type": "code",
   "execution_count": 22,
   "id": "7e3cf895-5d5b-4666-9a33-2231664a26da",
   "metadata": {},
   "outputs": [],
   "source": [
    "N_CLUSTERS = 6\n",
    "ALGORITHM = \"kmeans\""
   ]
  },
  {
   "cell_type": "code",
   "execution_count": 23,
   "id": "17a5969f-c373-4760-b0eb-5fed1c7ba696",
   "metadata": {},
   "outputs": [],
   "source": [
    "clusters, scores = cluster_users(\n",
    "    repns, algorithm_names=[ALGORITHM], n_clusters=N_CLUSTERS, return_scores=True\n",
    ")\n",
    "clusters = clusters[ALGORITHM]"
   ]
  },
  {
   "cell_type": "code",
   "execution_count": 24,
   "id": "15b4b95b-8da7-42f3-b30f-3c8c0dabc431",
   "metadata": {},
   "outputs": [
    {
     "data": {
      "text/plain": [
       "0.061206751008258065"
      ]
     },
     "execution_count": 24,
     "metadata": {},
     "output_type": "execute_result"
    }
   ],
   "source": [
    "scores[ALGORITHM]"
   ]
  },
  {
   "cell_type": "code",
   "execution_count": 25,
   "id": "3cc93215-dd7f-4863-adc6-7ee61d6ee412",
   "metadata": {},
   "outputs": [
    {
     "data": {
      "text/plain": [
       "4    81\n",
       "1    53\n",
       "2    46\n",
       "5    12\n",
       "3     7\n",
       "0     1\n",
       "Name: count, dtype: int64"
      ]
     },
     "execution_count": 25,
     "metadata": {},
     "output_type": "execute_result"
    }
   ],
   "source": [
    "cluster_dict = {u: c for u, c in zip(users, clusters)}\n",
    "pd.Series(cluster_dict).value_counts()"
   ]
  },
  {
   "cell_type": "markdown",
   "id": "bdcc57db",
   "metadata": {},
   "source": [
    "Distribution of users across clusters:\n",
    "- 3 major clusters (81, 53, 46 users)\n",
    "- 3 small clusters (12, 7, 1 users)"
   ]
  },
  {
   "cell_type": "code",
   "execution_count": 26,
   "id": "5dba7d09-adee-451f-96ea-e2ae68928150",
   "metadata": {
    "scrolled": true
   },
   "outputs": [],
   "source": [
    "label_clusters = [cluster_dict[l] for l in labels]"
   ]
  },
  {
   "cell_type": "code",
   "execution_count": 27,
   "id": "c6161f08-0e27-460d-ab4c-10630a28dd8a",
   "metadata": {},
   "outputs": [],
   "source": [
    "clustered_sequences = {\n",
    "    c: [s for s, l in zip(sequences, label_clusters) if l == c]\n",
    "    for c in range(N_CLUSTERS)\n",
    "}"
   ]
  },
  {
   "cell_type": "markdown",
   "id": "eccd6aaa-ce63-4a15-9c86-02f971fbe6dd",
   "metadata": {},
   "source": [
    "Dropping small clusters (0, 3, 5) because they don't have many users, for more reliable analysis."
   ]
  },
  {
   "cell_type": "code",
   "execution_count": 28,
   "id": "f06c1e24-93b8-483c-9fe0-7a55f3327df7",
   "metadata": {},
   "outputs": [
    {
     "data": {
      "text/plain": [
       "dict_keys([1, 2, 4])"
      ]
     },
     "execution_count": 28,
     "metadata": {},
     "output_type": "execute_result"
    }
   ],
   "source": [
    "for c in [0, 3, 5]:\n",
    "    clustered_sequences.pop(c, None)\n",
    "clustered_sequences.keys()"
   ]
  },
  {
   "cell_type": "markdown",
   "id": "0b204d6a-6c21-4458-a33f-b8f7be6798de",
   "metadata": {},
   "source": [
    "We end up with 180 users in 3 clusters."
   ]
  },
  {
   "cell_type": "code",
   "execution_count": 29,
   "id": "9c95a2cf-b05d-45f2-85ef-d09bc430bf80",
   "metadata": {},
   "outputs": [
    {
     "data": {
      "text/plain": [
       "dict_keys([0, 1, 2])"
      ]
     },
     "execution_count": 29,
     "metadata": {},
     "output_type": "execute_result"
    }
   ],
   "source": [
    "clustered_sequences = {i: v for i, v in enumerate(clustered_sequences.values())}\n",
    "clustered_sequences.keys()"
   ]
  },
  {
   "cell_type": "code",
   "execution_count": 30,
   "id": "c70b149d-bbcd-4f80-a97e-2bc8f3498d42",
   "metadata": {},
   "outputs": [],
   "source": [
    "N_CLUSTERS = len(clustered_sequences.keys())"
   ]
  },
  {
   "cell_type": "markdown",
   "id": "32544528-19eb-4418-9f03-bc877b81dcdc",
   "metadata": {},
   "source": [
    "## Interpreting the Clusters"
   ]
  },
  {
   "cell_type": "code",
   "execution_count": 31,
   "id": "e7711700-bbde-4ed9-91a7-97f09ff3638a",
   "metadata": {},
   "outputs": [
    {
     "data": {
      "text/plain": [
       "{0: 1711, 1: 1488, 2: 3709}"
      ]
     },
     "execution_count": 31,
     "metadata": {},
     "output_type": "execute_result"
    }
   ],
   "source": [
    "{c: len(v) for c, v in clustered_sequences.items()}"
   ]
  },
  {
   "cell_type": "code",
   "execution_count": 33,
   "id": "6ad25aec-674b-48e1-a9d3-5ee1eb0b931b",
   "metadata": {},
   "outputs": [],
   "source": [
    "dotenv.load_dotenv()\n",
    "client = OpenAI(api_key=os.getenv(\"OPENAI_API_KEY\"))\n",
    "\n",
    "SYSTEM_PROMPT_FILE = \"../../cybergpt/prompting/cluster_system_prompt.txt\"\n",
    "system_prompt = open(SYSTEM_PROMPT_FILE, \"r\").read()\n",
    "\n",
    "max_tokens = 110000\n",
    "\n",
    "model_name = \"gpt-4o\""
   ]
  },
  {
   "cell_type": "code",
   "execution_count": 34,
   "id": "9281322f-1159-47fc-b0e2-dcc03298412b",
   "metadata": {},
   "outputs": [],
   "source": [
    "if True:\n",
    "    results = pickle.load(\n",
    "        open(\"../../data/embeddings/cluster_interpretations.pkl\", \"rb\")\n",
    "    )\n",
    "else:\n",
    "    seeds = [42, 99, 1337]\n",
    "    results = [\n",
    "        interpret_clusters(\n",
    "            client,\n",
    "            system_prompt,\n",
    "            clustered_sequences,\n",
    "            model_name=model_name,\n",
    "            max_tokens=max_tokens,\n",
    "            random_seed=s,\n",
    "        )\n",
    "        for s in tqdm(seeds)\n",
    "    ]\n",
    "    pickle.dump(\n",
    "        results, open(\"../../data/embeddings/cluster_interpretations.pkl\", \"wb\")\n",
    "    )"
   ]
  },
  {
   "cell_type": "code",
   "execution_count": 35,
   "id": "ac812573-d45a-4ef7-b96e-5b5db97198c5",
   "metadata": {},
   "outputs": [],
   "source": [
    "cluster_results = {\n",
    "    f\"Cluster {i}\": [r[\"descriptions\"][f\"Cluster {i}\"] for r in results]\n",
    "    for i in range(N_CLUSTERS)\n",
    "}"
   ]
  },
  {
   "cell_type": "code",
   "execution_count": 36,
   "id": "61bcd75b-0416-40d0-96e8-38c43e9a175e",
   "metadata": {},
   "outputs": [
    {
     "data": {
      "text/html": [
       "\n",
       "    <style>\n",
       "        .cluster-table {\n",
       "            width: 100%;\n",
       "            margin: 20px 0;\n",
       "            border-collapse: collapse;\n",
       "            text-align: left !important;\n",
       "        }\n",
       "        .cluster-header {\n",
       "            background-color: #f8f9fa;\n",
       "            padding: 10px;\n",
       "            font-size: 18px;\n",
       "            font-weight: bold;\n",
       "            border: 1px solid #dee2e6;\n",
       "            text-align: left !important;\n",
       "        }\n",
       "        .summary-cell {\n",
       "            padding: 15px;\n",
       "            border: 1px solid #dee2e6;\n",
       "            text-align: left !important;\n",
       "        }\n",
       "        .keyword-tag {\n",
       "            display: inline-block;\n",
       "            background-color: #e7f3ff;\n",
       "            color: #0066cc;\n",
       "            padding: 4px 8px;\n",
       "            margin: 2px;\n",
       "            border-radius: 12px;\n",
       "            font-size: 12px;\n",
       "            text-align: left !important;\n",
       "        }\n",
       "        .pattern-container {\n",
       "            border-bottom: 1px solid #eee;\n",
       "            padding: 10px 0;\n",
       "            text-align: left !important;\n",
       "        }\n",
       "        .pattern-container:last-child {\n",
       "            border-bottom: none;\n",
       "        }\n",
       "    </style>\n",
       "    \n",
       "        <table class=\"cluster-table\">\n",
       "            <tr><td class=\"cluster-header\">Cluster 0</td></tr>\n",
       "            <tr><td class=\"summary-cell\">\n",
       "        \n",
       "            <div class=\"pattern-container\">\n",
       "                <div style=\"margin-bottom: 10px;\"><strong>1:</strong> Users in this cluster frequently visit entertainment and social media sites during evenings and early night hours, with sessions often starting on weekdays.</div>\n",
       "                <div>\n",
       "            <span class=\"keyword-tag\">entertainment-oriented</span><span class=\"keyword-tag\">evening-activity</span><span class=\"keyword-tag\">weekday-sessions</span></div></div>\n",
       "            <div class=\"pattern-container\">\n",
       "                <div style=\"margin-bottom: 10px;\"><strong>2:</strong> Casual internet users predominantly visiting social media, video streaming, and entertainment sites in varied patterns throughout the week.</div>\n",
       "                <div>\n",
       "            <span class=\"keyword-tag\">social-media</span><span class=\"keyword-tag\">varied-activity</span><span class=\"keyword-tag\">entertainment</span></div></div>\n",
       "            <div class=\"pattern-container\">\n",
       "                <div style=\"margin-bottom: 10px;\"><strong>3:</strong> Casual internet users alternating between social media and a variety of entertainment sites, with consistent engagement throughout the week.</div>\n",
       "                <div>\n",
       "            <span class=\"keyword-tag\">social-media</span><span class=\"keyword-tag\">diverse-entertainment</span><span class=\"keyword-tag\">consistent-usage</span></div></div></td></tr></table>\n",
       "        <table class=\"cluster-table\">\n",
       "            <tr><td class=\"cluster-header\">Cluster 1</td></tr>\n",
       "            <tr><td class=\"summary-cell\">\n",
       "        \n",
       "            <div class=\"pattern-container\">\n",
       "                <div style=\"margin-bottom: 10px;\"><strong>1:</strong> Users exhibit a pattern of visiting streaming and gaming platforms alongside social media, predominantly in the late afternoon until evening.</div>\n",
       "                <div>\n",
       "            <span class=\"keyword-tag\">streaming-focus</span><span class=\"keyword-tag\">afternoon-activity</span><span class=\"keyword-tag\">gaming-habits</span></div></div>\n",
       "            <div class=\"pattern-container\">\n",
       "                <div style=\"margin-bottom: 10px;\"><strong>2:</strong> Frequent visitors to online games, shopping, and media sites primarily during weekends and weekdays, suggesting leisure-focused browsing.</div>\n",
       "                <div>\n",
       "            <span class=\"keyword-tag\">gaming</span><span class=\"keyword-tag\">shopping</span><span class=\"keyword-tag\">media-consumption</span></div></div>\n",
       "            <div class=\"pattern-container\">\n",
       "                <div style=\"margin-bottom: 10px;\"><strong>3:</strong> E-commerce enthusiasts frequently visiting online shopping and gaming sites, mostly active throughout the week with surges during weekends.</div>\n",
       "                <div>\n",
       "            <span class=\"keyword-tag\">e-commerce</span><span class=\"keyword-tag\">online-gaming</span><span class=\"keyword-tag\">weekend-surge</span></div></div></td></tr></table>\n",
       "        <table class=\"cluster-table\">\n",
       "            <tr><td class=\"cluster-header\">Cluster 2</td></tr>\n",
       "            <tr><td class=\"summary-cell\">\n",
       "        \n",
       "            <div class=\"pattern-container\">\n",
       "                <div style=\"margin-bottom: 10px;\"><strong>1:</strong> Frequent use of farm simulation and game-related websites is evident with strong engagement on social media platforms, mainly during mornings and early afternoons.</div>\n",
       "                <div>\n",
       "            <span class=\"keyword-tag\">gaming-simulation</span><span class=\"keyword-tag\">morning-activity</span><span class=\"keyword-tag\">social-engagement</span></div></div>\n",
       "            <div class=\"pattern-container\">\n",
       "                <div style=\"margin-bottom: 10px;\"><strong>2:</strong> Users commonly accessing a variety of social media, e-commerce, and utility/service websites with extended browsing sessions throughout the day.</div>\n",
       "                <div>\n",
       "            <span class=\"keyword-tag\">social-media</span><span class=\"keyword-tag\">e-commerce</span><span class=\"keyword-tag\">extended-sessions</span></div></div>\n",
       "            <div class=\"pattern-container\">\n",
       "                <div style=\"margin-bottom: 10px;\"><strong>3:</strong> Dedicated internet surfers with a strong focus on browsing creative and hobby-related content and websites during the weekends.</div>\n",
       "                <div>\n",
       "            <span class=\"keyword-tag\">creative-browsing</span><span class=\"keyword-tag\">hobby-focus</span><span class=\"keyword-tag\">weekend-activity</span></div></div></td></tr></table>"
      ],
      "text/plain": [
       "<IPython.core.display.HTML object>"
      ]
     },
     "metadata": {},
     "output_type": "display_data"
    }
   ],
   "source": [
    "html_for_display = cluster_results_to_html(cluster_results)\n",
    "display(HTML(html_for_display))"
   ]
  },
  {
   "cell_type": "markdown",
   "id": "79cc5402-30d4-45d4-b2d4-406ae8e3f0f0",
   "metadata": {},
   "source": [
    "## Clustering Users into a Larger Number of Clusters\n",
    "\n",
    "Below we test with a larger number of clusters.\n",
    "- We end up with 6 stable clusters after filtering\n",
    "- More granular behavioral patterns visible"
   ]
  },
  {
   "cell_type": "code",
   "execution_count": 37,
   "id": "8956b804-c040-44e9-bfc0-04398014bead",
   "metadata": {},
   "outputs": [],
   "source": [
    "N_CLUSTERS = 12\n",
    "ALGORITHM = \"agglomerative\""
   ]
  },
  {
   "cell_type": "code",
   "execution_count": 38,
   "id": "04608765-2a3f-4e16-8add-3062c0432298",
   "metadata": {},
   "outputs": [],
   "source": [
    "clusters, scores = cluster_users(\n",
    "    repns, algorithm_names=[ALGORITHM], n_clusters=N_CLUSTERS, return_scores=True\n",
    ")\n",
    "clusters = clusters[ALGORITHM]"
   ]
  },
  {
   "cell_type": "code",
   "execution_count": 39,
   "id": "4f34120b-d12d-4d49-a07d-95f6afabaf77",
   "metadata": {},
   "outputs": [
    {
     "data": {
      "text/plain": [
       "0.05783223111366808"
      ]
     },
     "execution_count": 39,
     "metadata": {},
     "output_type": "execute_result"
    }
   ],
   "source": [
    "scores[ALGORITHM]"
   ]
  },
  {
   "cell_type": "code",
   "execution_count": 40,
   "id": "c90d3f72-0243-45d4-81d5-7c66a5843991",
   "metadata": {},
   "outputs": [
    {
     "data": {
      "text/plain": [
       "1     52\n",
       "0     40\n",
       "5     27\n",
       "3     23\n",
       "2     20\n",
       "4     12\n",
       "7      8\n",
       "11     5\n",
       "6      5\n",
       "10     4\n",
       "9      3\n",
       "8      1\n",
       "Name: count, dtype: int64"
      ]
     },
     "execution_count": 40,
     "metadata": {},
     "output_type": "execute_result"
    }
   ],
   "source": [
    "cluster_dict = {u: c for u, c in zip(users, clusters)}\n",
    "cluster_counts = pd.Series(cluster_dict).value_counts()\n",
    "cluster_counts"
   ]
  },
  {
   "cell_type": "code",
   "execution_count": 41,
   "id": "d316802f-0f24-4348-b3d5-d10a536791d0",
   "metadata": {},
   "outputs": [],
   "source": [
    "label_clusters = [cluster_dict[l] for l in labels]"
   ]
  },
  {
   "cell_type": "code",
   "execution_count": 42,
   "id": "e23ffe65-be55-4f7f-bc44-2cf2a2abebe2",
   "metadata": {},
   "outputs": [],
   "source": [
    "clustered_sequences = {\n",
    "    c: [s for s, l in zip(sequences, label_clusters) if l == c]\n",
    "    for c in range(N_CLUSTERS)\n",
    "}"
   ]
  },
  {
   "cell_type": "markdown",
   "id": "e66c8edb-a338-49eb-b28f-b339d9bcdc18",
   "metadata": {},
   "source": [
    "Let's drop clusters with fewer than 10 users."
   ]
  },
  {
   "cell_type": "code",
   "execution_count": 43,
   "id": "ca548080-19f9-4762-82d0-3d31b6969274",
   "metadata": {},
   "outputs": [],
   "source": [
    "MIN_USERS_IN_CLUSTER = 10\n",
    "valid_clusters = list(cluster_counts[cluster_counts >= MIN_USERS_IN_CLUSTER].index)\n",
    "\n",
    "clustered_sequences = {\n",
    "    k: v for k, v in clustered_sequences.items() if k in valid_clusters\n",
    "}\n",
    "clustered_sequences = {i: v for i, v in enumerate(clustered_sequences.values())}"
   ]
  },
  {
   "cell_type": "code",
   "execution_count": 44,
   "id": "212d3542-1e01-4139-b437-dd20d5dd60cf",
   "metadata": {},
   "outputs": [
    {
     "data": {
      "text/plain": [
       "dict_keys([0, 1, 2, 3, 4, 5])"
      ]
     },
     "execution_count": 44,
     "metadata": {},
     "output_type": "execute_result"
    }
   ],
   "source": [
    "clustered_sequences.keys()"
   ]
  },
  {
   "cell_type": "markdown",
   "id": "beeae38b-f2c9-4d4c-97d3-67b4aa851bd9",
   "metadata": {},
   "source": [
    "We end up with 6 clusters."
   ]
  },
  {
   "cell_type": "code",
   "execution_count": 45,
   "id": "224d0686-d1ff-40cd-825e-c5c75e7f45b1",
   "metadata": {},
   "outputs": [],
   "source": [
    "N_CLUSTERS = 6"
   ]
  },
  {
   "cell_type": "code",
   "execution_count": 46,
   "id": "9cb03563-df6d-43a6-9bb3-f9c6c005159b",
   "metadata": {},
   "outputs": [
    {
     "data": {
      "text/plain": [
       "{0: 1657, 1: 2319, 2: 642, 3: 617, 4: 528, 5: 1396}"
      ]
     },
     "execution_count": 46,
     "metadata": {},
     "output_type": "execute_result"
    }
   ],
   "source": [
    "{c: len(v) for c, v in clustered_sequences.items()}"
   ]
  },
  {
   "cell_type": "code",
   "execution_count": 47,
   "id": "50f98ff3-f3a6-4014-b483-ceb7907a2811",
   "metadata": {},
   "outputs": [
    {
     "data": {
      "application/vnd.jupyter.widget-view+json": {
       "model_id": "b38a1cbe975149e1adb60ff33a945390",
       "version_major": 2,
       "version_minor": 0
      },
      "text/plain": [
       "  0%|          | 0/3 [00:00<?, ?it/s]"
      ]
     },
     "metadata": {},
     "output_type": "display_data"
    }
   ],
   "source": [
    "if True:\n",
    "    results = pickle.load(\n",
    "        open(\"../../data/embeddings/cluster_interpretations_wide.pkl\", \"rb\")\n",
    "    )\n",
    "else:\n",
    "    seeds = [42, 99, 1337]\n",
    "    results = [\n",
    "        interpret_clusters(\n",
    "            client,\n",
    "            system_prompt,\n",
    "            clustered_sequences,\n",
    "            model_name=model_name,\n",
    "            max_tokens=max_tokens,\n",
    "            random_seed=s,\n",
    "        )\n",
    "        for s in tqdm(seeds)\n",
    "    ]\n",
    "    pickle.dump(\n",
    "        results, open(\"../../data/embeddings/cluster_interpretations_wide.pkl\", \"wb\")\n",
    "    )"
   ]
  },
  {
   "cell_type": "code",
   "execution_count": 48,
   "id": "44e34f41-487c-4516-8052-00da50df0328",
   "metadata": {},
   "outputs": [],
   "source": [
    "cluster_results = {\n",
    "    f\"Cluster {i}\": [r[\"descriptions\"][f\"Cluster {i}\"] for r in results]\n",
    "    for i in range(N_CLUSTERS)\n",
    "}"
   ]
  },
  {
   "cell_type": "code",
   "execution_count": 49,
   "id": "e7fdf1f6-fc2b-4b24-b71b-ceac7f5d0f57",
   "metadata": {},
   "outputs": [
    {
     "data": {
      "text/html": [
       "\n",
       "    <style>\n",
       "        .cluster-table {\n",
       "            width: 100%;\n",
       "            margin: 20px 0;\n",
       "            border-collapse: collapse;\n",
       "            text-align: left !important;\n",
       "        }\n",
       "        .cluster-header {\n",
       "            background-color: #f8f9fa;\n",
       "            padding: 10px;\n",
       "            font-size: 18px;\n",
       "            font-weight: bold;\n",
       "            border: 1px solid #dee2e6;\n",
       "            text-align: left !important;\n",
       "        }\n",
       "        .summary-cell {\n",
       "            padding: 15px;\n",
       "            border: 1px solid #dee2e6;\n",
       "            text-align: left !important;\n",
       "        }\n",
       "        .keyword-tag {\n",
       "            display: inline-block;\n",
       "            background-color: #e7f3ff;\n",
       "            color: #0066cc;\n",
       "            padding: 4px 8px;\n",
       "            margin: 2px;\n",
       "            border-radius: 12px;\n",
       "            font-size: 12px;\n",
       "            text-align: left !important;\n",
       "        }\n",
       "        .pattern-container {\n",
       "            border-bottom: 1px solid #eee;\n",
       "            padding: 10px 0;\n",
       "            text-align: left !important;\n",
       "        }\n",
       "        .pattern-container:last-child {\n",
       "            border-bottom: none;\n",
       "        }\n",
       "    </style>\n",
       "    \n",
       "        <table class=\"cluster-table\">\n",
       "            <tr><td class=\"cluster-header\">Cluster 0</td></tr>\n",
       "            <tr><td class=\"summary-cell\">\n",
       "        \n",
       "            <div class=\"pattern-container\">\n",
       "                <div style=\"margin-bottom: 10px;\"><strong>1:</strong> Casual internet users primarily engage with social media, video streaming, and light browsing, often during evening hours.</div>\n",
       "                <div>\n",
       "            <span class=\"keyword-tag\">social-media-focused</span><span class=\"keyword-tag\">entertainment</span><span class=\"keyword-tag\">evening-activity</span></div></div>\n",
       "            <div class=\"pattern-container\">\n",
       "                <div style=\"margin-bottom: 10px;\"><strong>2:</strong> Diverse browsing with a focus on media consumption, online shopping, and social networking across various hours</div>\n",
       "                <div>\n",
       "            <span class=\"keyword-tag\">media-focused</span><span class=\"keyword-tag\">varied-timings</span><span class=\"keyword-tag\">social-networking</span></div></div>\n",
       "            <div class=\"pattern-container\">\n",
       "                <div style=\"margin-bottom: 10px;\"><strong>3:</strong> Diverse browsing activities including shopping, social media, and entertainment during varied hours, with notable frequents on auditing and engagement of specific websites repeatedly.</div>\n",
       "                <div>\n",
       "            <span class=\"keyword-tag\">mixed-usage</span><span class=\"keyword-tag\">frequent-site-revisits</span><span class=\"keyword-tag\">shopping-social</span></div></div></td></tr></table>\n",
       "        <table class=\"cluster-table\">\n",
       "            <tr><td class=\"cluster-header\">Cluster 1</td></tr>\n",
       "            <tr><td class=\"summary-cell\">\n",
       "        \n",
       "            <div class=\"pattern-container\">\n",
       "                <div style=\"margin-bottom: 10px;\"><strong>1:</strong> Frequent online shoppers with a keen interest in e-commerce platforms and banking websites, mostly active during weekdays.</div>\n",
       "                <div>\n",
       "            <span class=\"keyword-tag\">e-commerce</span><span class=\"keyword-tag\">weekday-activity</span><span class=\"keyword-tag\">banking</span></div></div>\n",
       "            <div class=\"pattern-container\">\n",
       "                <div style=\"margin-bottom: 10px;\"><strong>2:</strong> Finance-oriented users engaging in stock trading, online banking, and e-commerce during daytime hours</div>\n",
       "                <div>\n",
       "            <span class=\"keyword-tag\">finance-focused</span><span class=\"keyword-tag\">daytime-activity</span><span class=\"keyword-tag\">e-commerce</span></div></div>\n",
       "            <div class=\"pattern-container\">\n",
       "                <div style=\"margin-bottom: 10px;\"><strong>3:</strong> Frequent users of shopping-related sites and financial services during weekday working hours, showcasing an interest in financial management.</div>\n",
       "                <div>\n",
       "            <span class=\"keyword-tag\">shopping-intensive</span><span class=\"keyword-tag\">weekday-activity</span><span class=\"keyword-tag\">financial-focus</span></div></div></td></tr></table>\n",
       "        <table class=\"cluster-table\">\n",
       "            <tr><td class=\"cluster-header\">Cluster 2</td></tr>\n",
       "            <tr><td class=\"summary-cell\">\n",
       "        \n",
       "            <div class=\"pattern-container\">\n",
       "                <div style=\"margin-bottom: 10px;\"><strong>1:</strong> Users engaged in online media consumption and personal errands, with sporadic visits to communication and video streaming sites.</div>\n",
       "                <div>\n",
       "            <span class=\"keyword-tag\">media-consumption</span><span class=\"keyword-tag\">personal-errands</span><span class=\"keyword-tag\">afternoon-activity</span></div></div>\n",
       "            <div class=\"pattern-container\">\n",
       "                <div style=\"margin-bottom: 10px;\"><strong>2:</strong> E-commerce enthusiasts frequently visiting online marketplaces and auction sites with significant browsing at all hours</div>\n",
       "                <div>\n",
       "            <span class=\"keyword-tag\">e-commerce-heavy</span><span class=\"keyword-tag\">marketplace-visits</span><span class=\"keyword-tag\">all-day-activity</span></div></div>\n",
       "            <div class=\"pattern-container\">\n",
       "                <div style=\"margin-bottom: 10px;\"><strong>3:</strong> Consistent use of dating and social community websites along with frequent use of personal email during the daytime.</div>\n",
       "                <div>\n",
       "            <span class=\"keyword-tag\">dating-sites</span><span class=\"keyword-tag\">daytime-usage</span><span class=\"keyword-tag\">social-engagement</span></div></div></td></tr></table>\n",
       "        <table class=\"cluster-table\">\n",
       "            <tr><td class=\"cluster-header\">Cluster 3</td></tr>\n",
       "            <tr><td class=\"summary-cell\">\n",
       "        \n",
       "            <div class=\"pattern-container\">\n",
       "                <div style=\"margin-bottom: 10px;\"><strong>1:</strong> Users involved in frequent searches and streaming, with a pattern of visiting news and tech-related sites during late hours.</div>\n",
       "                <div>\n",
       "            <span class=\"keyword-tag\">search-focused</span><span class=\"keyword-tag\">tech-savvy</span><span class=\"keyword-tag\">nighttime-activity</span></div></div>\n",
       "            <div class=\"pattern-container\">\n",
       "                <div style=\"margin-bottom: 10px;\"><strong>2:</strong> Users focused on automotive parts and discussions, with intermittent browsing of general internet resources</div>\n",
       "                <div>\n",
       "            <span class=\"keyword-tag\">automotive-interest</span><span class=\"keyword-tag\">parts-buying</span><span class=\"keyword-tag\">intermittent-browsing</span></div></div>\n",
       "            <div class=\"pattern-container\">\n",
       "                <div style=\"margin-bottom: 10px;\"><strong>3:</strong> Automotive enthusiasts engaged in vehicle-related content, ranging from car listings to auto reviews, predominantly during afternoons and evenings.</div>\n",
       "                <div>\n",
       "            <span class=\"keyword-tag\">car-interests</span><span class=\"keyword-tag\">afternoon-evening-activity</span><span class=\"keyword-tag\">automotive-focused</span></div></div></td></tr></table>\n",
       "        <table class=\"cluster-table\">\n",
       "            <tr><td class=\"cluster-header\">Cluster 4</td></tr>\n",
       "            <tr><td class=\"summary-cell\">\n",
       "        \n",
       "            <div class=\"pattern-container\">\n",
       "                <div style=\"margin-bottom: 10px;\"><strong>1:</strong> Online game enthusiasts who frequently visit gaming sites and manage logistics throughout the day.</div>\n",
       "                <div>\n",
       "            <span class=\"keyword-tag\">gaming-enthusiast</span><span class=\"keyword-tag\">logistics</span><span class=\"keyword-tag\">daytime-activity</span></div></div>\n",
       "            <div class=\"pattern-container\">\n",
       "                <div style=\"margin-bottom: 10px;\"><strong>2:</strong> Online gaming enthusiasts with extended gaming sessions and occasional browsing of gaming-related content</div>\n",
       "                <div>\n",
       "            <span class=\"keyword-tag\">gaming-sessions</span><span class=\"keyword-tag\">entertainment-focused</span><span class=\"keyword-tag\">gaming-related-content</span></div></div>\n",
       "            <div class=\"pattern-container\">\n",
       "                <div style=\"margin-bottom: 10px;\"><strong>3:</strong> Frequent access to news and games, with heavy involvement in online gaming platforms and news sites during various hours.</div>\n",
       "                <div>\n",
       "            <span class=\"keyword-tag\">news-gamers</span><span class=\"keyword-tag\">multi-hour-activity</span><span class=\"keyword-tag\">gaming-intensive</span></div></div></td></tr></table>\n",
       "        <table class=\"cluster-table\">\n",
       "            <tr><td class=\"cluster-header\">Cluster 5</td></tr>\n",
       "            <tr><td class=\"summary-cell\">\n",
       "        \n",
       "            <div class=\"pattern-container\">\n",
       "                <div style=\"margin-bottom: 10px;\"><strong>1:</strong> Active social media users with continuous interaction on social platforms and sporadic visits to gaming and shopping sites.</div>\n",
       "                <div>\n",
       "            <span class=\"keyword-tag\">social-media-centric</span><span class=\"keyword-tag\">sporadic-shopping</span><span class=\"keyword-tag\">gaming</span></div></div>\n",
       "            <div class=\"pattern-container\">\n",
       "                <div style=\"margin-bottom: 10px;\"><strong>2:</strong> Heavy social media users primarily focused on Facebook and Youtube during various periods of the day</div>\n",
       "                <div>\n",
       "            <span class=\"keyword-tag\">social-media-heavy</span><span class=\"keyword-tag\">youtube-engagement</span><span class=\"keyword-tag\">variable-schedule</span></div></div>\n",
       "            <div class=\"pattern-container\">\n",
       "                <div style=\"margin-bottom: 10px;\"><strong>3:</strong> Social media heavy users engaging mostly in Facebook and multimedia content, with browsing spread across the day.</div>\n",
       "                <div>\n",
       "            <span class=\"keyword-tag\">social-media-usage</span><span class=\"keyword-tag\">spread-day-browsing</span><span class=\"keyword-tag\">facebook-centric</span></div></div></td></tr></table>"
      ],
      "text/plain": [
       "<IPython.core.display.HTML object>"
      ]
     },
     "metadata": {},
     "output_type": "display_data"
    }
   ],
   "source": [
    "html_for_display = cluster_results_to_html(cluster_results)\n",
    "display(HTML(html_for_display))"
   ]
  },
  {
   "cell_type": "code",
   "execution_count": null,
   "id": "166742ec-ee65-49bb-9284-5e4f191806c6",
   "metadata": {},
   "outputs": [],
   "source": []
  }
 ],
 "metadata": {
  "kernelspec": {
   "display_name": "Python (cybergpt-datasets)",
   "language": "python",
   "name": "cybergpt-datasets"
  },
  "language_info": {
   "codemirror_mode": {
    "name": "ipython",
    "version": 3
   },
   "file_extension": ".py",
   "mimetype": "text/x-python",
   "name": "python",
   "nbconvert_exporter": "python",
   "pygments_lexer": "ipython3",
   "version": "3.12.7"
  }
 },
 "nbformat": 4,
 "nbformat_minor": 5
}
